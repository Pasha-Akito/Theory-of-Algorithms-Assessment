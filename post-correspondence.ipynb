{
 "cells": [
  {
   "cell_type": "markdown",
   "metadata": {},
   "source": [
    "# Post Correspondence Problem\n",
    "https://en.wikipedia.org/wiki/Post_correspondence_problem\n",
    "***"
   ]
  },
  {
   "cell_type": "markdown",
   "metadata": {},
   "source": [
    "The Post Correspondence Problem or PCP, was introduced by Emil Post in 1946. It is an undecidable decision problem and is used  in showcasing proofs of undecidability\n",
    "<br>"
   ]
  },
  {
   "cell_type": "markdown",
   "metadata": {},
   "source": [
    "### An example of the problem\n",
    "***\n"
   ]
  },
  {
   "cell_type": "code",
   "execution_count": 1,
   "metadata": {},
   "outputs": [],
   "source": [
    "# define two fwo finite lists, both containing N words were as follows: \n",
    "L1 = ['a', 'ab', 'bba']\n",
    "# And \n",
    "L2 = ['baa', 'aa', 'bb']\n",
    "# The aim is to find out a concatenation of these words in a sequence such that L1 and L2 will equal each other\n",
    "# Both lists contain values that are not equal to each other"
   ]
  },
  {
   "cell_type": "markdown",
   "metadata": {},
   "source": [
    "We can represent these two lists in the Post Correspondence Problem like so:\n",
    "<br>\n",
    "\n",
    "<b> Domino Form </b>\n",
    "<br>\n",
    "\n",
    "![image](https://raw.githubusercontent.com/Pasha-Akito/Theory-of-Algorithms-Assessment/main/imgs/newDomino.png)\n",
    "\n",
    "<br>\n",
    "\n",
    "<b> Table Form </b>\n",
    "<br>\n",
    "\n",
    "![image](https://raw.githubusercontent.com/Pasha-Akito/Theory-of-Algorithms-Assessment/main/imgs/newTable.png)\n",
    "\n",
    "<br>"
   ]
  },
  {
   "cell_type": "markdown",
   "metadata": {},
   "source": [
    "### An example of a solution\n",
    "***"
   ]
  },
  {
   "cell_type": "code",
   "execution_count": 2,
   "metadata": {},
   "outputs": [],
   "source": [
    "# One of many solutions would be the sequence of indices S as follows:\n",
    "S = (2, 1, 2, 0)"
   ]
  },
  {
   "cell_type": "markdown",
   "metadata": {},
   "source": [
    "Lets consider this selection of pair 2, 1, 2, 0. We can represent S like so:\n",
    "<br>\n",
    "\n",
    "<b> Domino Form </b>\n",
    "<br>\n",
    "\n",
    "![image](https://raw.githubusercontent.com/Pasha-Akito/Theory-of-Algorithms-Assessment/main/imgs/domino.png)\n",
    "\n",
    "<br>\n",
    "\n",
    "<b> Table Form </b>\n",
    "<br>\n",
    "\n",
    "![image](https://raw.githubusercontent.com/Pasha-Akito/Theory-of-Algorithms-Assessment/main/imgs/table.png)\n",
    "\n",
    "<br>\n",
    "We'll try verify using Python if L1 corresponds to L2"
   ]
  },
  {
   "cell_type": "code",
   "execution_count": 3,
   "metadata": {},
   "outputs": [],
   "source": [
    "# Function for applying the proposed solution to a tuple\n",
    "def apply(S, L):\n",
    "    S_on_L = [''.join(L[i]) for i in S]\n",
    "    return ''.join(S_on_L)\n",
    "# We then compare these tuples using python to see if they equal or not"
   ]
  },
  {
   "cell_type": "code",
   "execution_count": 4,
   "metadata": {},
   "outputs": [
    {
     "data": {
      "text/plain": [
       "'bbaabbbaa'"
      ]
     },
     "execution_count": 4,
     "metadata": {},
     "output_type": "execute_result"
    }
   ],
   "source": [
    "# Apply S to L1\n",
    "apply(S, L1)"
   ]
  },
  {
   "cell_type": "code",
   "execution_count": 5,
   "metadata": {},
   "outputs": [
    {
     "data": {
      "text/plain": [
       "'bbaabbbaa'"
      ]
     },
     "execution_count": 5,
     "metadata": {},
     "output_type": "execute_result"
    }
   ],
   "source": [
    "# Apply S to L2\n",
    "apply(S, L2)"
   ]
  },
  {
   "cell_type": "code",
   "execution_count": 6,
   "metadata": {},
   "outputs": [
    {
     "data": {
      "text/plain": [
       "True"
      ]
     },
     "execution_count": 6,
     "metadata": {},
     "output_type": "execute_result"
    }
   ],
   "source": [
    "# Comparing them to see if the proposed solution is true\n",
    "apply(S, L1) == apply(S, L2)"
   ]
  },
  {
   "cell_type": "code",
   "execution_count": 7,
   "metadata": {},
   "outputs": [
    {
     "data": {
      "text/plain": [
       "'bbaabbbaabbaabbbaa'"
      ]
     },
     "execution_count": 7,
     "metadata": {},
     "output_type": "execute_result"
    }
   ],
   "source": [
    "# Here's another solution, there are infinitely many.\n",
    "apply((2, 1, 2, 0, 2, 1, 2, 0), L1)"
   ]
  },
  {
   "cell_type": "code",
   "execution_count": 8,
   "metadata": {},
   "outputs": [
    {
     "data": {
      "text/plain": [
       "'bbaabbbaabbaabbbaa'"
      ]
     },
     "execution_count": 8,
     "metadata": {},
     "output_type": "execute_result"
    }
   ],
   "source": [
    "apply((2, 1, 2, 0, 2, 1, 2, 0), L2)"
   ]
  },
  {
   "cell_type": "code",
   "execution_count": 9,
   "metadata": {},
   "outputs": [
    {
     "data": {
      "text/plain": [
       "True"
      ]
     },
     "execution_count": 9,
     "metadata": {},
     "output_type": "execute_result"
    }
   ],
   "source": [
    "apply((2, 1, 2, 0, 2, 1, 2, 0), L2) == apply((2, 1, 2, 0, 2, 1, 2, 0), L1)"
   ]
  },
  {
   "cell_type": "markdown",
   "metadata": {},
   "source": [
    "\n",
    "### No Correspondence\n",
    "***\n",
    "Lets consider the following finite lists:"
   ]
  },
  {
   "cell_type": "code",
   "execution_count": 10,
   "metadata": {},
   "outputs": [],
   "source": [
    "L1 = ['ab', 'bba']\n",
    "L2 = ['aa', 'bb']\n",
    "# What is S in this situation?"
   ]
  },
  {
   "cell_type": "markdown",
   "metadata": {},
   "source": [
    "The possiblities are infinite = ((0,), (1,), (0,0), (0, 1), (1, 0), (1,1), (0,0,0), (0,0,1), (0,1,0), ...)\n",
    "\n",
    "Yet not a single combination match up so we have a situation where there is no correspondence between the two lists."
   ]
  },
  {
   "cell_type": "markdown",
   "metadata": {},
   "source": [
    "$$ (L_1,L_2) \\rightarrow \\{True, False\\} \\qquad |L_1| = |L_2| $$"
   ]
  },
  {
   "cell_type": "markdown",
   "metadata": {},
   "source": [
    "<br>\n",
    "\n",
    "## The Bounded Post Correspondence Problem\n",
    "***"
   ]
  },
  {
   "cell_type": "markdown",
   "metadata": {},
   "source": [
    "This is one of the most popular and important variantions of the Post Correspondence Problem. The <b> Bounded </b> Post Correspondence Problem stipulates that the length of <b> <i> S </i> </b> cannot have more than <b> <i> k </i> </b> elements\n",
    "<br> \n",
    "$$ |S| \\leq k \\qquad k \\in \\mathbb{N} $$\n",
    "<br>\n",
    "PCP which was an undecidable problem now becomes a decidable problem due to this requirement. A brute force algorithm can be made to check if two lists correspond with each other or not because there is a limit to how many elements <b> <i> S </i> </b> can have."
   ]
  },
  {
   "cell_type": "markdown",
   "metadata": {},
   "source": [
    "<br>\n",
    "\n",
    "## Python Solution to solve the Bounded Post Correspondence Problem\n",
    "***\n",
    "We will construct an algorithm that will try and find a solution <b> <i> S </i> </b> in max length <b> <i> k </i> </b> between two inputted lists."
   ]
  },
  {
   "cell_type": "code",
   "execution_count": 11,
   "metadata": {},
   "outputs": [],
   "source": [
    "# Using the following finite lists that we know correspond\n",
    "L1 = ['a', 'ab', 'bba']\n",
    "L2 = ['baa', 'aa', 'bb']"
   ]
  },
  {
   "cell_type": "code",
   "execution_count": 12,
   "metadata": {},
   "outputs": [],
   "source": [
    "# A very useful module in the Python standard library.\n",
    "import itertools as it"
   ]
  },
  {
   "cell_type": "code",
   "execution_count": 13,
   "metadata": {},
   "outputs": [],
   "source": [
    "# getttng the Carestian product of a list\n",
    "def cartesian_product(l, k):\n",
    "    List = []\n",
    "    for i in range(1, k + 1):\n",
    "        for product in it.product(l, repeat = i):\n",
    "            List.append(''.join(product))\n",
    "    return List"
   ]
  },
  {
   "cell_type": "code",
   "execution_count": 14,
   "metadata": {},
   "outputs": [
    {
     "name": "stdout",
     "output_type": "stream",
     "text": [
      "['a', 'ab', 'bba', 'aa', 'aab', 'abba', 'aba', 'abab', 'abbba', 'bbaa', 'bbaab', 'bbabba', 'aaa', 'aaab', 'aabba', 'aaba', 'aabab', 'aabbba', 'abbaa', 'abbaab', 'abbabba', 'abaa', 'abaab', 'ababba', 'ababa', 'ababab', 'ababbba', 'abbbaa', 'abbbaab', 'abbbabba', 'bbaaa', 'bbaaab', 'bbaabba', 'bbaaba', 'bbaabab', 'bbaabbba', 'bbabbaa', 'bbabbaab', 'bbabbabba', 'aaaa', 'aaaab', 'aaabba', 'aaaba', 'aaabab', 'aaabbba', 'aabbaa', 'aabbaab', 'aabbabba', 'aabaa', 'aabaab', 'aababba', 'aababa', 'aababab', 'aababbba', 'aabbbaa', 'aabbbaab', 'aabbbabba', 'abbaaa', 'abbaaab', 'abbaabba', 'abbaaba', 'abbaabab', 'abbaabbba', 'abbabbaa', 'abbabbaab', 'abbabbabba', 'abaaa', 'abaaab', 'abaabba', 'abaaba', 'abaabab', 'abaabbba', 'ababbaa', 'ababbaab', 'ababbabba', 'ababaa', 'ababaab', 'abababba', 'abababa', 'abababab', 'abababbba', 'ababbbaa', 'ababbbaab', 'ababbbabba', 'abbbaaa', 'abbbaaab', 'abbbaabba', 'abbbaaba', 'abbbaabab', 'abbbaabbba', 'abbbabbaa', 'abbbabbaab', 'abbbabbabba', 'bbaaaa', 'bbaaaab', 'bbaaabba', 'bbaaaba', 'bbaaabab', 'bbaaabbba', 'bbaabbaa', 'bbaabbaab', 'bbaabbabba', 'bbaabaa', 'bbaabaab', 'bbaababba', 'bbaababa', 'bbaababab', 'bbaababbba', 'bbaabbbaa', 'bbaabbbaab', 'bbaabbbabba', 'bbabbaaa', 'bbabbaaab', 'bbabbaabba', 'bbabbaaba', 'bbabbaabab', 'bbabbaabbba', 'bbabbabbaa', 'bbabbabbaab', 'bbabbabbabba']\n"
     ]
    }
   ],
   "source": [
    "# Printing all cartesian products of list 1 to a max length of 4\n",
    "print(cartesian_product(L1, 4))"
   ]
  },
  {
   "cell_type": "code",
   "execution_count": 15,
   "metadata": {},
   "outputs": [
    {
     "name": "stdout",
     "output_type": "stream",
     "text": [
      "['baa', 'aa', 'bb', 'baabaa', 'baaaa', 'baabb', 'aabaa', 'aaaa', 'aabb', 'bbbaa', 'bbaa', 'bbbb', 'baabaabaa', 'baabaaaa', 'baabaabb', 'baaaabaa', 'baaaaaa', 'baaaabb', 'baabbbaa', 'baabbaa', 'baabbbb', 'aabaabaa', 'aabaaaa', 'aabaabb', 'aaaabaa', 'aaaaaa', 'aaaabb', 'aabbbaa', 'aabbaa', 'aabbbb', 'bbbaabaa', 'bbbaaaa', 'bbbaabb', 'bbaabaa', 'bbaaaa', 'bbaabb', 'bbbbbaa', 'bbbbaa', 'bbbbbb', 'baabaabaabaa', 'baabaabaaaa', 'baabaabaabb', 'baabaaaabaa', 'baabaaaaaa', 'baabaaaabb', 'baabaabbbaa', 'baabaabbaa', 'baabaabbbb', 'baaaabaabaa', 'baaaabaaaa', 'baaaabaabb', 'baaaaaabaa', 'baaaaaaaa', 'baaaaaabb', 'baaaabbbaa', 'baaaabbaa', 'baaaabbbb', 'baabbbaabaa', 'baabbbaaaa', 'baabbbaabb', 'baabbaabaa', 'baabbaaaa', 'baabbaabb', 'baabbbbbaa', 'baabbbbaa', 'baabbbbbb', 'aabaabaabaa', 'aabaabaaaa', 'aabaabaabb', 'aabaaaabaa', 'aabaaaaaa', 'aabaaaabb', 'aabaabbbaa', 'aabaabbaa', 'aabaabbbb', 'aaaabaabaa', 'aaaabaaaa', 'aaaabaabb', 'aaaaaabaa', 'aaaaaaaa', 'aaaaaabb', 'aaaabbbaa', 'aaaabbaa', 'aaaabbbb', 'aabbbaabaa', 'aabbbaaaa', 'aabbbaabb', 'aabbaabaa', 'aabbaaaa', 'aabbaabb', 'aabbbbbaa', 'aabbbbaa', 'aabbbbbb', 'bbbaabaabaa', 'bbbaabaaaa', 'bbbaabaabb', 'bbbaaaabaa', 'bbbaaaaaa', 'bbbaaaabb', 'bbbaabbbaa', 'bbbaabbaa', 'bbbaabbbb', 'bbaabaabaa', 'bbaabaaaa', 'bbaabaabb', 'bbaaaabaa', 'bbaaaaaa', 'bbaaaabb', 'bbaabbbaa', 'bbaabbaa', 'bbaabbbb', 'bbbbbaabaa', 'bbbbbaaaa', 'bbbbbaabb', 'bbbbaabaa', 'bbbbaaaa', 'bbbbaabb', 'bbbbbbbaa', 'bbbbbbaa', 'bbbbbbbb']\n"
     ]
    }
   ],
   "source": [
    "# Printing all cartesian products of list 2 to a max length of 4\n",
    "print(cartesian_product(L2, 4))"
   ]
  },
  {
   "cell_type": "code",
   "execution_count": 16,
   "metadata": {},
   "outputs": [],
   "source": [
    "# function to check two lists and if any of their cartesian products match\n",
    "def correspond(l1, l2, k):\n",
    "    if len(l1) != len(l2):\n",
    "        return False\n",
    "    # checking lists in parrell using iterate\n",
    "    for l1, l2 in zip(cartesian_product(l1, k), cartesian_product(l2, k)):\n",
    "            if l1 == l2:\n",
    "                print(\"Solution S is {}\".format(l1))\n",
    "                return True\n",
    "    print(\"Solution S was not found for k size : {}\".format(k))\n",
    "    return False"
   ]
  },
  {
   "cell_type": "code",
   "execution_count": 17,
   "metadata": {},
   "outputs": [],
   "source": [
    "# Solver for the bounded post correspondence problem \n",
    "def bpcp_solver(l1, l2, k):\n",
    "    if correspond(l1, l2, k):\n",
    "        return True\n",
    "    else:\n",
    "        return False"
   ]
  },
  {
   "cell_type": "code",
   "execution_count": 18,
   "metadata": {},
   "outputs": [
    {
     "name": "stdout",
     "output_type": "stream",
     "text": [
      "Solution S is bbaabbbaa\n"
     ]
    },
    {
     "data": {
      "text/plain": [
       "True"
      ]
     },
     "execution_count": 18,
     "metadata": {},
     "output_type": "execute_result"
    }
   ],
   "source": [
    "# Solution S exists when k = 4\n",
    "bpcp_solver(L1, L2, 4)"
   ]
  },
  {
   "cell_type": "code",
   "execution_count": 19,
   "metadata": {},
   "outputs": [
    {
     "name": "stdout",
     "output_type": "stream",
     "text": [
      "Solution S was not found for k size : 3\n"
     ]
    },
    {
     "data": {
      "text/plain": [
       "False"
      ]
     },
     "execution_count": 19,
     "metadata": {},
     "output_type": "execute_result"
    }
   ],
   "source": [
    "# But doesn't when k < 4\n",
    "bpcp_solver(L1, L2, 3)"
   ]
  },
  {
   "cell_type": "code",
   "execution_count": 20,
   "metadata": {},
   "outputs": [
    {
     "name": "stdout",
     "output_type": "stream",
     "text": [
      "Solution S was not found for k size : 4\n"
     ]
    },
    {
     "data": {
      "text/plain": [
       "False"
      ]
     },
     "execution_count": 20,
     "metadata": {},
     "output_type": "execute_result"
    }
   ],
   "source": [
    "# If we use the following lists that we know have no correspondence it should return false\n",
    "L1 = ['ab', 'bba']\n",
    "L2 = ['aa', 'bb']\n",
    "\n",
    "bpcp_solver(L1, L2, 4)"
   ]
  },
  {
   "cell_type": "markdown",
   "metadata": {},
   "source": [
    "<br>\n",
    "\n",
    "### What is an Undecidable Problem in Computing?\n",
    "***"
   ]
  },
  {
   "cell_type": "markdown",
   "metadata": {},
   "source": [
    "In computing there are sometimes problems that take a great deal of time and computational power to solve. We try use algorithms that provide the most approximate solution to a problem. But nontheless there are some problems that even with a powerful enough computer and infinite time can't be solved which result in undecidable problems. Decidable problems are problems which can be solved with a yes or no.\n",
    "\n",
    "The Post Correspondence Problem has been proven undecidable for this reason. As we've seen with some examples in the past, with infinite permutations there still wouldn't exist a solution for <b> <i> S </i> </b>. Where as the big change with the <b> Bounded </b> Post Correspondence Problem, there is an upper limit which we call <b> <i> k </i> </b> to how many elements <b> <i> S </i> </b> can contain. So if we were to try and get all the carestian products of two differnet lists up to a length of <b> <i> k </i> </b> we can decidably figure out whether or not they match making the <b> Bounded </b> Post Correspondence Problem decidable."
   ]
  },
  {
   "cell_type": "markdown",
   "metadata": {},
   "source": [
    "<br>\n",
    "\n",
    "### Interactive Area\n",
    "***"
   ]
  },
  {
   "cell_type": "code",
   "execution_count": 21,
   "metadata": {},
   "outputs": [
    {
     "name": "stdout",
     "output_type": "stream",
     "text": [
      "Solution S is ab\n"
     ]
    },
    {
     "data": {
      "text/plain": [
       "True"
      ]
     },
     "execution_count": 21,
     "metadata": {},
     "output_type": "execute_result"
    }
   ],
   "source": [
    "# feel free to change L1, L2 and k \n",
    "L1 = ['ab']\n",
    "L2 = ['ab']\n",
    "k = 1 \n",
    "\n",
    "bpcp_solver(L1, L2, k)"
   ]
  },
  {
   "cell_type": "markdown",
   "metadata": {},
   "source": [
    "<br>\n",
    "\n",
    "## Resources\n",
    "***"
   ]
  },
  {
   "cell_type": "markdown",
   "metadata": {},
   "source": [
    "2. [PCP Wikipedia](https://en.wikipedia.org/wiki/Post_correspondence_problem)\n",
    "3. [PCP geeksforgeeks](https://www.geeksforgeeks.org/post-correspondence-problem/#:~:text=Post%20Correspondence%20Problem%20is%20a,as%20string%20made%20by%20Denominators.)\n",
    "4. [The Post Correspondence Problem on Youtube](https://www.youtube.com/watch?v=VZNN1OGoqr8&ab_channel=NesoAcademy)\n",
    "5. [Undecidability of the Post Correspondence Problem on Youtube](https://www.youtube.com/watch?v=7w9elZjJ9Ko&ab_channel=NesoAcademy)\n",
    "6. [How to iterate through two lists in parallel? on stackoverflow](https://stackoverflow.com/questions/1663807/how-to-iterate-through-two-lists-in-parallel)\n",
    "7. [Decision Problem Wikipedia](https://en.wikipedia.org/wiki/Decision_problem)\n",
    "8. [Python Sets Documentation](https://docs.python.org/3/tutorial/datastructures.html#sets)\n",
    "9. [Python Tuples Documentation](https://docs.python.org/3/tutorial/datastructures.html#tuples-and-sequences)\n",
    "10. [Itertools in Python 3, By Example](https://realpython.com/python-itertools/)"
   ]
  }
 ],
 "metadata": {
  "kernelspec": {
   "display_name": "Python 3",
   "language": "python",
   "name": "python3"
  },
  "language_info": {
   "codemirror_mode": {
    "name": "ipython",
    "version": 3
   },
   "file_extension": ".py",
   "mimetype": "text/x-python",
   "name": "python",
   "nbconvert_exporter": "python",
   "pygments_lexer": "ipython3",
   "version": "3.7.0"
  }
 },
 "nbformat": 4,
 "nbformat_minor": 2
}
