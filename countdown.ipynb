{
 "cells": [
  {
   "cell_type": "markdown",
   "metadata": {},
   "source": [
    "# Countdown Numbers Game\n",
    "https://en.wikipedia.org/wiki/Countdown_(game_show)#Numbers_round\n",
    "***"
   ]
  },
  {
   "cell_type": "markdown",
   "metadata": {},
   "source": [
    "The Countdown game is a british game show involving word and number tasks. Two contestants compete against each other in a series of rounds. One of these rounds is the numbers game.\n",
    "\n",
    "There are two groups of numbers, one being large numbers containing <b> 25, 50, 75 and 100 </b> and small numbers containing a selection of <b> 1 to 10 twice </b>. The contestants need to decide six numbers from the large and small numbers in any combination they'd like. This means they could choose up to four or none large numbers if they desire and make up the rest with small numbers. \n",
    "\n",
    "A target number is randomly generated which is a three digit number which can be between 101-999 inclusive. They have to use arithmetic using the chosen numbers to get to the target number. "
   ]
  },
  {
   "cell_type": "markdown",
   "metadata": {},
   "source": [
    "## Rules\n",
    "***\n",
    "* Only basic arithmetic can be used which involes\n",
    "    * Addition\n",
    "    * Subtraction\n",
    "    * Multiplication\n",
    "    * Division\n",
    "* Fractions of numbers are not allowed\n",
    "* Numbers cannot become negative\n",
    "* Numbers cannot be used twice\n",
    "* Concatenating numbers is not allowed\n",
    "* The solution does not require that you use all the numbers"
   ]
  },
  {
   "cell_type": "markdown",
   "metadata": {},
   "source": [
    "<br>\n",
    "\n",
    "## Complexity of the Numbers Game\n",
    "***\n",
    "The numbers game is incredibly complex due to the amount of possible combinations of solutions."
   ]
  },
  {
   "cell_type": "code",
   "execution_count": 13,
   "metadata": {},
   "outputs": [],
   "source": [
    "# Lets assume we have just six random numbers\n",
    "L1 = [1, 2, 3, 4, 5, 6]\n",
    "# This also assumes that we'd have five different operators associated with these numbers\n",
    "L2 = ['-', '+', '*', '/', '+']"
   ]
  },
  {
   "cell_type": "code",
   "execution_count": 14,
   "metadata": {},
   "outputs": [
    {
     "data": {
      "text/plain": [
       "(3, 7)"
      ]
     },
     "execution_count": 14,
     "metadata": {},
     "output_type": "execute_result"
    }
   ],
   "source": [
    "# There are many ways a simple sum can be interpreted\n",
    "# Take for example this sum 6 - 4 - 2\n",
    "# This can be interpreted differently\n",
    "sum1 = (6 - 1) - 2\n",
    "sum2 = 6 - (1 - 2)\n",
    "sum1, sum2"
   ]
  },
  {
   "cell_type": "markdown",
   "metadata": {},
   "source": [
    "So we have to come up with a way to represent these sums in a way that they are interpeted the correct way"
   ]
  },
  {
   "cell_type": "markdown",
   "metadata": {},
   "source": [
    "### Reverse Polish Notation RPN\n",
    "***"
   ]
  },
  {
   "cell_type": "markdown",
   "metadata": {},
   "source": [
    "This saves the interperter or compiler an awful lot of work when it comes to figuring out how to work with these sums"
   ]
  },
  {
   "cell_type": "code",
   "execution_count": 15,
   "metadata": {},
   "outputs": [],
   "source": [
    "# For example if we take the previous two sums\n",
    "sum1 = (6 - 1) - 2\n",
    "# would be written as 61-2-\n",
    "sum2 = 6 - (1 - 2)\n",
    "# would be wrriten as 612--"
   ]
  },
  {
   "cell_type": "markdown",
   "metadata": {},
   "source": [
    "So the order of where the symbols come up denotes how the sum would be handled \n",
    "\n",
    "Which is one problem solved"
   ]
  },
  {
   "cell_type": "markdown",
   "metadata": {},
   "source": [
    "### Possible combinations\n",
    "***"
   ]
  },
  {
   "cell_type": "code",
   "execution_count": 16,
   "metadata": {},
   "outputs": [
    {
     "data": {
      "text/plain": [
       "([1, 2, 3, 4, 5, 6], ['-', '+', '*', '/', '+'])"
      ]
     },
     "execution_count": 16,
     "metadata": {},
     "output_type": "execute_result"
    }
   ],
   "source": [
    "# If we take the two lists we had from earlier on\n",
    "L1, L2"
   ]
  },
  {
   "cell_type": "code",
   "execution_count": 17,
   "metadata": {},
   "outputs": [
    {
     "data": {
      "text/plain": [
       "39916800"
      ]
     },
     "execution_count": 17,
     "metadata": {},
     "output_type": "execute_result"
    }
   ],
   "source": [
    "# There are eleven elements between the two sets\n",
    "# if we were to shuffle all these elements we'd have\n",
    "import math\n",
    "math.factorial(11)"
   ]
  },
  {
   "cell_type": "markdown",
   "metadata": {},
   "source": [
    "We'd have 39,916,800 possible combinations, and that's not including all the combinations of operators involved."
   ]
  },
  {
   "cell_type": "code",
   "execution_count": 19,
   "metadata": {},
   "outputs": [
    {
     "data": {
      "text/plain": [
       "2155507200"
      ]
     },
     "execution_count": 19,
     "metadata": {},
     "output_type": "execute_result"
    }
   ],
   "source": [
    "# If we get all the possible sets of operators, we'd have 54 differnet sets\n",
    "# Which means we'd have \n",
    "39916800 * 54"
   ]
  },
  {
   "cell_type": "markdown",
   "metadata": {},
   "source": [
    "We'd have 2.155 billion possible combinations, and that's not even including all the combinations of numbers involved. Where the number of combinations becomes astronomically large"
   ]
  },
  {
   "cell_type": "markdown",
   "metadata": {},
   "source": [
    "<br>\n",
    "\n",
    "## Python Solution to solve the Countdown Numbers Game\n",
    "***"
   ]
  },
  {
   "cell_type": "code",
   "execution_count": 23,
   "metadata": {},
   "outputs": [],
   "source": [
    "# Random Number Generator\n",
    "import random\n",
    "# To deal with permutations and combinations\n",
    "import itertools as it\n",
    "from more_itertools import distinct_permutations\n",
    "# Operators as functions\n",
    "import operator"
   ]
  },
  {
   "cell_type": "markdown",
   "metadata": {},
   "source": [
    "<br>\n",
    "\n",
    "### Acquiring the numbers randomly for our countdown game\n",
    "***"
   ]
  },
  {
   "cell_type": "code",
   "execution_count": 24,
   "metadata": {},
   "outputs": [
    {
     "data": {
      "text/plain": [
       "[25, 50, 75, 100]"
      ]
     },
     "execution_count": 24,
     "metadata": {},
     "output_type": "execute_result"
    }
   ],
   "source": [
    "# Large numbers\n",
    "large = [25, 50, 75, 100]\n",
    "large"
   ]
  },
  {
   "cell_type": "code",
   "execution_count": 25,
   "metadata": {},
   "outputs": [
    {
     "data": {
      "text/plain": [
       "[1, 1, 2, 2, 3, 3, 4, 4, 5, 5, 6, 6, 7, 7, 8, 8, 9, 9, 10, 10]"
      ]
     },
     "execution_count": 25,
     "metadata": {},
     "output_type": "execute_result"
    }
   ],
   "source": [
    "# Small numbers\n",
    "small = sorted(list(range(1, 11)) * 2)\n",
    "small"
   ]
  },
  {
   "cell_type": "code",
   "execution_count": 26,
   "metadata": {},
   "outputs": [
    {
     "data": {
      "text/plain": [
       "1"
      ]
     },
     "execution_count": 26,
     "metadata": {},
     "output_type": "execute_result"
    }
   ],
   "source": [
    "# The number of large numbers to pick \n",
    "no_large = random.randrange(0, 5)\n",
    "no_large"
   ]
  },
  {
   "cell_type": "code",
   "execution_count": 27,
   "metadata": {},
   "outputs": [
    {
     "data": {
      "text/plain": [
       "[50]"
      ]
     },
     "execution_count": 27,
     "metadata": {},
     "output_type": "execute_result"
    }
   ],
   "source": [
    "# Selecting no_large large numbers at random\n",
    "large_rand = random.sample(large, no_large)\n",
    "large_rand"
   ]
  },
  {
   "cell_type": "code",
   "execution_count": 28,
   "metadata": {},
   "outputs": [
    {
     "data": {
      "text/plain": [
       "[10, 4, 1, 10, 6]"
      ]
     },
     "execution_count": 28,
     "metadata": {},
     "output_type": "execute_result"
    }
   ],
   "source": [
    "# Selecting (6 - no_large) small numbers at random\n",
    "small_rand = random.sample(small, 6 - no_large)\n",
    "small_rand"
   ]
  },
  {
   "cell_type": "code",
   "execution_count": 29,
   "metadata": {},
   "outputs": [
    {
     "data": {
      "text/plain": [
       "[50, 10, 4, 1, 10, 6]"
      ]
     },
     "execution_count": 29,
     "metadata": {},
     "output_type": "execute_result"
    }
   ],
   "source": [
    "# Putting all random numbers in a list\n",
    "countdown_numbers = large_rand + small_rand\n",
    "countdown_numbers "
   ]
  },
  {
   "cell_type": "code",
   "execution_count": 30,
   "metadata": {},
   "outputs": [
    {
     "data": {
      "text/plain": [
       "674"
      ]
     },
     "execution_count": 30,
     "metadata": {},
     "output_type": "execute_result"
    }
   ],
   "source": [
    "# Picking a random target number\n",
    "target = random.randrange(101, 1000)\n",
    "target"
   ]
  },
  {
   "cell_type": "code",
   "execution_count": 31,
   "metadata": {},
   "outputs": [],
   "source": [
    "# Making an all in one function to generate numbers for our countdown game\n",
    "def new_numbers_game():\n",
    "    \"\"\" Returns six numbers and a target number representing a Countdown numbers game. \"\"\"\n",
    "    no_large = random.randrange(0, 5)\n",
    "    large_rand = random.sample([25, 50, 75, 100], no_large)\n",
    "    small_rand = random.sample(list(range(1, 11)) * 2, (6 - no_large))\n",
    "    countdown_numbers = large_rand + small_rand\n",
    "    target = random.randrange(101, 1000)\n",
    "    return countdown_numbers, target"
   ]
  },
  {
   "cell_type": "code",
   "execution_count": 32,
   "metadata": {},
   "outputs": [
    {
     "data": {
      "text/plain": [
       "([7, 10, 2, 2, 9, 7], 799)"
      ]
     },
     "execution_count": 32,
     "metadata": {},
     "output_type": "execute_result"
    }
   ],
   "source": [
    "# Random numbers game\n",
    "countdown_numbers, target = new_numbers_game()\n",
    "countdown_numbers, target"
   ]
  },
  {
   "cell_type": "code",
   "execution_count": 33,
   "metadata": {},
   "outputs": [],
   "source": [
    "# Evaluating RPN expression\n",
    "def evaluate_rpn(rpn):\n",
    "    stack = []\n",
    "    # Loop through rpn an item at a time\n",
    "    for i in rpn:\n",
    "        # check if its a number\n",
    "        if isinstance(i, int):\n",
    "            # Append to the stack.\n",
    "            stack = stack + [i]\n",
    "        else:\n",
    "            # Pop from stack twice\n",
    "            right = stack[-1]\n",
    "            stack = stack[:-1]\n",
    "            left = stack[-1]\n",
    "            stack = stack[:-1]\n",
    "            # Push operator applied to stack elements\n",
    "            stack = stack + [i(left, right)]\n",
    "    # should only be one item on the stack\n",
    "    return stack[0]"
   ]
  },
  {
   "cell_type": "code",
   "execution_count": null,
   "metadata": {},
   "outputs": [],
   "source": []
  },
  {
   "cell_type": "markdown",
   "metadata": {},
   "source": [
    "<br>\n",
    "\n",
    "## Resources\n",
    "***\n",
    "\n",
    "1. [Countdown Wikipedia](https://en.wikipedia.org/wiki/Countdown_(game_show))\n",
    "2. [Brute Forcing The Countdown Numbers Game - Computerphile](https://www.youtube.com/watch?v=cVMhkqPP2YI&t=435s&ab_channel=Computerphile)\n",
    "3. [Countdown Game Show DataGenetics](https://datagenetics.com/blog/august32014/index.html)\n",
    "4. [Functional Programming in Python: When and How to Use It](https://realpython.com/python-functional-programming/)\n",
    "5. [Countdown numbers game (Solution generator)](https://codereview.stackexchange.com/questions/190533/countdown-numbers-game-solution-generator)"
   ]
  }
 ],
 "metadata": {
  "kernelspec": {
   "display_name": "Python 3",
   "language": "python",
   "name": "python3"
  },
  "language_info": {
   "codemirror_mode": {
    "name": "ipython",
    "version": 3
   },
   "file_extension": ".py",
   "mimetype": "text/x-python",
   "name": "python",
   "nbconvert_exporter": "python",
   "pygments_lexer": "ipython3",
   "version": "3.7.0"
  }
 },
 "nbformat": 4,
 "nbformat_minor": 2
}
